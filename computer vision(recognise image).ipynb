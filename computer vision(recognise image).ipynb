{
  "nbformat": 4,
  "nbformat_minor": 0,
  "metadata": {
    "colab": {
      "name": "Sabari vikram.ipynb",
      "provenance": []
    },
    "kernelspec": {
      "name": "python3",
      "display_name": "Python 3"
    }
  },
  "cells": [
    {
      "cell_type": "code",
      "metadata": {
        "id": "aCK_nze1dlZi"
      },
      "source": [
        "import tensorflow as tf\r\n",
        "from tensorflow.keras import datasets, layers, models\r\n",
        "import matplotlib.pyplot as plt"
      ],
      "execution_count": 7,
      "outputs": []
    },
    {
      "cell_type": "code",
      "metadata": {
        "colab": {
          "base_uri": "https://localhost:8080/"
        },
        "id": "WricoAcghfBz",
        "outputId": "56ca0220-e5ff-4e46-91a0-a99cdd59206e"
      },
      "source": [
        "(train_images,train_labels),(test_images,test_labels)=datasets.cifar10.load_data()\r\n",
        "train_images, test_images=train_images/255.0,test_images/255.0"
      ],
      "execution_count": 4,
      "outputs": [
        {
          "output_type": "stream",
          "text": [
            "Downloading data from https://www.cs.toronto.edu/~kriz/cifar-10-python.tar.gz\n",
            "170500096/170498071 [==============================] - 2s 0us/step\n"
          ],
          "name": "stdout"
        }
      ]
    },
    {
      "cell_type": "code",
      "metadata": {
        "id": "UCSaobBGiY8i"
      },
      "source": [
        "model = models.Sequential()\r\n",
        "model.add(layers.Conv2D(32,(3,3),activation='relu',input_shape=(32,32,3)))\r\n",
        "model.add(layers.MaxPooling2D((2,2)))\r\n",
        "model.add(layers.Conv2D(64,(3,3),activation='relu'))\r\n",
        "model.add(layers.MaxPooling2D((2,2)))\r\n",
        "model.add(layers.Conv2D(64,(3,3),activation='relu'))\r\n",
        "\r\n"
      ],
      "execution_count": 41,
      "outputs": []
    },
    {
      "cell_type": "code",
      "metadata": {
        "colab": {
          "base_uri": "https://localhost:8080/"
        },
        "id": "uLjwvmY_lhf7",
        "outputId": "7dea5333-e89a-4106-f82d-29c61c4a9c76"
      },
      "source": [
        "model.summary()"
      ],
      "execution_count": 42,
      "outputs": [
        {
          "output_type": "stream",
          "text": [
            "Model: \"sequential_11\"\n",
            "_________________________________________________________________\n",
            "Layer (type)                 Output Shape              Param #   \n",
            "=================================================================\n",
            "conv2d_23 (Conv2D)           (None, 30, 30, 32)        896       \n",
            "_________________________________________________________________\n",
            "max_pooling2d_15 (MaxPooling (None, 15, 15, 32)        0         \n",
            "_________________________________________________________________\n",
            "conv2d_24 (Conv2D)           (None, 13, 13, 64)        18496     \n",
            "_________________________________________________________________\n",
            "max_pooling2d_16 (MaxPooling (None, 6, 6, 64)          0         \n",
            "_________________________________________________________________\n",
            "conv2d_25 (Conv2D)           (None, 4, 4, 64)          36928     \n",
            "=================================================================\n",
            "Total params: 56,320\n",
            "Trainable params: 56,320\n",
            "Non-trainable params: 0\n",
            "_________________________________________________________________\n"
          ],
          "name": "stdout"
        }
      ]
    },
    {
      "cell_type": "code",
      "metadata": {
        "colab": {
          "base_uri": "https://localhost:8080/"
        },
        "id": "yGlTi6hul8EL",
        "outputId": "e8d3e85f-86f9-40d7-a18a-06d25f0ed612"
      },
      "source": [
        "model.add(layers.Flatten())\r\n",
        "model.add(layers.Dense(64,activation='relu'))\r\n",
        "model.add(layers.Dense(10))\r\n",
        "model.summary()\r\n"
      ],
      "execution_count": 43,
      "outputs": [
        {
          "output_type": "stream",
          "text": [
            "Model: \"sequential_11\"\n",
            "_________________________________________________________________\n",
            "Layer (type)                 Output Shape              Param #   \n",
            "=================================================================\n",
            "conv2d_23 (Conv2D)           (None, 30, 30, 32)        896       \n",
            "_________________________________________________________________\n",
            "max_pooling2d_15 (MaxPooling (None, 15, 15, 32)        0         \n",
            "_________________________________________________________________\n",
            "conv2d_24 (Conv2D)           (None, 13, 13, 64)        18496     \n",
            "_________________________________________________________________\n",
            "max_pooling2d_16 (MaxPooling (None, 6, 6, 64)          0         \n",
            "_________________________________________________________________\n",
            "conv2d_25 (Conv2D)           (None, 4, 4, 64)          36928     \n",
            "_________________________________________________________________\n",
            "flatten_8 (Flatten)          (None, 1024)              0         \n",
            "_________________________________________________________________\n",
            "dense_16 (Dense)             (None, 64)                65600     \n",
            "_________________________________________________________________\n",
            "dense_17 (Dense)             (None, 10)                650       \n",
            "=================================================================\n",
            "Total params: 122,570\n",
            "Trainable params: 122,570\n",
            "Non-trainable params: 0\n",
            "_________________________________________________________________\n"
          ],
          "name": "stdout"
        }
      ]
    },
    {
      "cell_type": "code",
      "metadata": {
        "colab": {
          "base_uri": "https://localhost:8080/"
        },
        "id": "n3gF4zljm-Q6",
        "outputId": "10683cc1-98ac-4909-b60d-18096b8c16e2"
      },
      "source": [
        "model.compile(optimizer='adam',\r\n",
        "              loss=tf.keras.losses.SparseCategoricalCrossentropy(from_logits=True),\r\n",
        "              metrics=['accuracy'])\r\n",
        "history = model.fit(train_images,train_labels,epochs=10,validation_data=(test_images,test_labels))\r\n",
        "test_loss,test_acc = model.evaluate(test_images,test_labels,verbose=2)\r\n",
        "print(test_acc)"
      ],
      "execution_count": 44,
      "outputs": [
        {
          "output_type": "stream",
          "text": [
            "Epoch 1/10\n",
            "1563/1563 [==============================] - 65s 41ms/step - loss: 1.7488 - accuracy: 0.3530 - val_loss: 1.2052 - val_accuracy: 0.5703\n",
            "Epoch 2/10\n",
            "1563/1563 [==============================] - 64s 41ms/step - loss: 1.1869 - accuracy: 0.5759 - val_loss: 1.0562 - val_accuracy: 0.6229\n",
            "Epoch 3/10\n",
            "1563/1563 [==============================] - 64s 41ms/step - loss: 1.0200 - accuracy: 0.6401 - val_loss: 0.9887 - val_accuracy: 0.6513\n",
            "Epoch 4/10\n",
            "1563/1563 [==============================] - 64s 41ms/step - loss: 0.9043 - accuracy: 0.6837 - val_loss: 0.9329 - val_accuracy: 0.6702\n",
            "Epoch 5/10\n",
            "1563/1563 [==============================] - 65s 42ms/step - loss: 0.8135 - accuracy: 0.7143 - val_loss: 0.8844 - val_accuracy: 0.6959\n",
            "Epoch 6/10\n",
            "1563/1563 [==============================] - 65s 41ms/step - loss: 0.7525 - accuracy: 0.7345 - val_loss: 0.9475 - val_accuracy: 0.6717\n",
            "Epoch 7/10\n",
            "1563/1563 [==============================] - 65s 41ms/step - loss: 0.6953 - accuracy: 0.7595 - val_loss: 0.8904 - val_accuracy: 0.6987\n",
            "Epoch 8/10\n",
            "1563/1563 [==============================] - 65s 41ms/step - loss: 0.6513 - accuracy: 0.7707 - val_loss: 0.8625 - val_accuracy: 0.7063\n",
            "Epoch 9/10\n",
            "1563/1563 [==============================] - 64s 41ms/step - loss: 0.6117 - accuracy: 0.7850 - val_loss: 0.8502 - val_accuracy: 0.7196\n",
            "Epoch 10/10\n",
            "1563/1563 [==============================] - 65s 41ms/step - loss: 0.5710 - accuracy: 0.7989 - val_loss: 0.9010 - val_accuracy: 0.7006\n",
            "313/313 - 3s - loss: 0.9010 - accuracy: 0.7006\n",
            "0.7006000280380249\n"
          ],
          "name": "stdout"
        }
      ]
    }
  ]
}
